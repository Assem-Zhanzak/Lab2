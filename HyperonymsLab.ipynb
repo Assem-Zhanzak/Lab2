{
 "cells": [
  {
   "cell_type": "markdown",
   "metadata": {
    "ExecuteTime": {
     "end_time": "2020-02-12T17:56:22.948195Z",
     "start_time": "2020-02-12T17:56:22.944176Z"
    }
   },
   "source": [
    "### Lab 2: Hyponyms and Hypernyms"
   ]
  },
  {
   "cell_type": "code",
   "execution_count": 2,
   "metadata": {
    "ExecuteTime": {
     "end_time": "2020-02-12T14:12:16.470920Z",
     "start_time": "2020-02-12T14:12:15.640262Z"
    }
   },
   "outputs": [],
   "source": [
    "import pandas as pd\n",
    "import wikipedia\n",
    "import os\n",
    "from tqdm import tqdm\n",
    "from joblib import Parallel, delayed\n",
    "import multiprocessing\n",
    "import networkx as nx\n",
    "import matplotlib.pyplot as plt\n",
    "from collections import defaultdict\n",
    "from ipywidgets import interact, interactive, fixed, interact_manual,widgets\n",
    "from IPython.display import display\n",
    "import json\n"
   ]
  },
  {
   "cell_type": "code",
   "execution_count": null,
   "metadata": {},
   "outputs": [],
   "source": [
    "num_cores = multiprocessing.cpu_count()\n",
    "print(num_cores)\n",
    "wikipedia.set_lang(\"ru\")\n",
    "# DATA_PATH_LIST = ['D:','src2','taxonomy-enrichment','data','training_data']\n",
    "DATA_PATH_LIST = ['.']\n",
    "EMBEDDING_MODEL_FILENAME = \"wiki_node2vec.bin\"\n",
    "DATA_PATH=\"/\".join(DATA_PATH_LIST+[\"training_nouns.tsv\"])\n",
    "df = pd.read_csv(DATA_PATH,sep='\\t')\n",
    "%matplotlib inline"
   ]
  },
  {
   "cell_type": "code",
   "execution_count": 3,
   "metadata": {
    "ExecuteTime": {
     "end_time": "2020-02-12T14:12:16.475780Z",
     "start_time": "2020-02-12T14:12:16.473114Z"
    }
   },
   "outputs": [],
   "source": [
    "def prestr(x):\n",
    "    return str(x).replace('\\\"','').replace(\"'\",'\"')"
   ]
  },
  {
   "cell_type": "code",
   "execution_count": 4,
   "metadata": {
    "ExecuteTime": {
     "end_time": "2020-02-12T14:12:16.685506Z",
     "start_time": "2020-02-12T14:12:16.477634Z"
    }
   },
   "outputs": [
    {
     "ename": "NameError",
     "evalue": "name 'df' is not defined",
     "output_type": "error",
     "traceback": [
      "\u001b[1;31m---------------------------------------------------------------------------\u001b[0m",
      "\u001b[1;31mNameError\u001b[0m                                 Traceback (most recent call last)",
      "\u001b[1;32m<ipython-input-4-6adb23f00266>\u001b[0m in \u001b[0;36m<module>\u001b[1;34m\u001b[0m\n\u001b[0;32m      5\u001b[0m \u001b[1;33m\u001b[0m\u001b[0m\n\u001b[0;32m      6\u001b[0m \u001b[0midx2syns\u001b[0m \u001b[1;33m=\u001b[0m \u001b[0mDefDict\u001b[0m\u001b[1;33m(\u001b[0m\u001b[1;32mlambda\u001b[0m \u001b[0mx\u001b[0m\u001b[1;33m:\u001b[0m\u001b[0mx\u001b[0m\u001b[1;33m)\u001b[0m\u001b[1;33m\u001b[0m\u001b[1;33m\u001b[0m\u001b[0m\n\u001b[1;32m----> 7\u001b[1;33m \u001b[1;32mfor\u001b[0m \u001b[0mval\u001b[0m \u001b[1;32min\u001b[0m \u001b[0mdf\u001b[0m\u001b[1;33m.\u001b[0m\u001b[0mvalues\u001b[0m\u001b[1;33m:\u001b[0m\u001b[1;33m\u001b[0m\u001b[1;33m\u001b[0m\u001b[0m\n\u001b[0m\u001b[0;32m      8\u001b[0m     \u001b[0midx2syns\u001b[0m\u001b[1;33m[\u001b[0m\u001b[0mval\u001b[0m\u001b[1;33m[\u001b[0m\u001b[1;36m0\u001b[0m\u001b[1;33m]\u001b[0m\u001b[1;33m]\u001b[0m\u001b[1;33m=\u001b[0m\u001b[0mval\u001b[0m\u001b[1;33m[\u001b[0m\u001b[1;36m1\u001b[0m\u001b[1;33m]\u001b[0m\u001b[1;33m\u001b[0m\u001b[1;33m\u001b[0m\u001b[0m\n\u001b[0;32m      9\u001b[0m     \u001b[1;32mtry\u001b[0m\u001b[1;33m:\u001b[0m\u001b[1;33m\u001b[0m\u001b[1;33m\u001b[0m\u001b[0m\n",
      "\u001b[1;31mNameError\u001b[0m: name 'df' is not defined"
     ]
    }
   ],
   "source": [
    "class DefDict(defaultdict):\n",
    "    def __missing__(self, key):\n",
    "        self[key] = key\n",
    "        return key\n",
    "    \n",
    "idx2syns = DefDict(lambda x:x)\n",
    "for val in df.values:\n",
    "    idx2syns[val[0]]=val[1]\n",
    "    try:\n",
    "        pidxs = json.loads(prestr(val[2]))\n",
    "        concp = [el.split(\",\")[0] for el in json.loads(prestr(val[3]))]\n",
    "        idx2syns.update(dict(zip(pidxs,concp)))\n",
    "    except:\n",
    "        print(prestr(val[2]))\n",
    "        print(prestr(val[3]))"
   ]
  },
  {
   "cell_type": "markdown",
   "metadata": {
    "ExecuteTime": {
     "end_time": "2020-02-12T17:12:34.060220Z",
     "start_time": "2020-02-12T17:12:34.055235Z"
    }
   },
   "source": [
    "### Interactive visualization of hyponyms and hypernyms"
   ]
  },
  {
   "cell_type": "code",
   "execution_count": 5,
   "metadata": {
    "ExecuteTime": {
     "end_time": "2020-02-12T17:11:37.966489Z",
     "start_time": "2020-02-12T17:11:37.931688Z"
    }
   },
   "outputs": [
    {
     "data": {
      "application/vnd.jupyter.widget-view+json": {
       "model_id": "a94d9f01ac3049aabbc1a8443f39f220",
       "version_major": 2,
       "version_minor": 0
      },
      "text/plain": [
       "Button(description='Draw', style=ButtonStyle())"
      ]
     },
     "metadata": {},
     "output_type": "display_data"
    },
    {
     "data": {
      "application/vnd.jupyter.widget-view+json": {
       "model_id": "b231da2946014a07a05e69f6733a5c2a",
       "version_major": 2,
       "version_minor": 0
      },
      "text/plain": [
       "Text(value='МАТЬ', description='String:', placeholder='Query')"
      ]
     },
     "metadata": {},
     "output_type": "display_data"
    }
   ],
   "source": [
    "button = widgets.Button(description=\"Draw\")\n",
    "query = widgets.Text(\n",
    "    value='МАТЬ',\n",
    "    placeholder='Query',\n",
    "    description='String:',\n",
    "    disabled=False\n",
    ")\n",
    "display(button,query)\n",
    "\n",
    "\n",
    "\n",
    "\n",
    "def creategraph(df):\n",
    "    res = []\n",
    "    for row in df.values:\n",
    "        cohyps = row[1].split(\",\")\n",
    "        for idx,cohyp in enumerate(cohyps):\n",
    "            for parent in json.loads(prestr(row[2])):\n",
    "                res.append((row[0]+'-'+str(idx),parent))\n",
    "    return res\n",
    "\n",
    "def graphdraw(b):\n",
    "    print(\"graphdraw\",query.value)\n",
    "    subset = df[df['TEXT'].str.contains(query.value.upper())]\n",
    "    g = nx.DiGraph()\n",
    "    for el in subset.values:\n",
    "        cohyps = el[1].split(\",\")\n",
    "        print(cohyps)\n",
    "        syns = idx2syns[el[0]]\n",
    "        for child in cohyps:\n",
    "            for parent in json.loads(prestr(el[2])):\n",
    "                ed = g.add_edge(child,idx2syns[parent],label=\"is a\")\n",
    "            \n",
    "    plt.figure(figsize=(15,15))\n",
    "    pos = nx.nx_agraph.graphviz_layout(g)\n",
    "    nx.draw(g,with_labels=True,pos=pos)\n",
    "#     edge_labels=nx.draw_networkx_edge_labels(g,pos=pos)\n",
    "    plt.show()\n",
    "button.on_click(graphdraw)"
   ]
  },
  {
   "cell_type": "markdown",
   "metadata": {
    "ExecuteTime": {
     "end_time": "2020-02-12T11:38:20.619158Z",
     "start_time": "2020-02-12T11:38:20.614734Z"
    }
   },
   "source": [
    "### Pattern extractor\n",
    "\n",
    "Yargy — библиотека для извлечения структурированной информации из текстов на русском языке. Правила описываются контекстно-свободными грамматиками и словарями ключевых слов. Банк готовых правил для имён, дат, адресов и других сущностей доступен в репозитории Natasha.\n",
    "* https://yargy.readthedocs.io/ru/latest/\n",
    "* http://pymorphy2.readthedocs.io/en/latest/user/grammemes.html\n",
    "* https://github.com/natasha/natasha"
   ]
  },
  {
   "cell_type": "markdown",
   "metadata": {
    "ExecuteTime": {
     "start_time": "2020-02-12T13:09:50.486Z"
    }
   },
   "source": [
    "### Токенизатор"
   ]
  },
  {
   "cell_type": "code",
   "execution_count": 6,
   "metadata": {
    "ExecuteTime": {
     "end_time": "2020-02-12T14:12:16.819980Z",
     "start_time": "2020-02-12T14:12:16.708109Z"
    }
   },
   "outputs": [
    {
     "name": "stdout",
     "output_type": "stream",
     "text": [
      "['Ростов', '-', 'на', '-', 'Дону']\n",
      "['Длительностью', '18', 'ч', '.', '10', 'мин', '.']\n",
      "['Яндекс', '.', 'Такси']\n",
      "['π', '≈', '3', '.', '1415']\n",
      "['1', '500', '000', '$']\n",
      "['http', ':', '/', '/', 'vk', '.', 'com']\n"
     ]
    }
   ],
   "source": [
    "from yargy.tokenizer import MorphTokenizer\n",
    "\n",
    "\n",
    "tokenizer = MorphTokenizer()\n",
    "text = '''Ростов-на-Дону\n",
    "Длительностью 18ч. 10мин.\n",
    "Яндекс.Такси\n",
    "π ≈ 3.1415\n",
    "1 500 000$\n",
    "http://vk.com\n",
    "'''\n",
    "for line in text.splitlines():\n",
    "    print([_.value for _ in tokenizer(line)])"
   ]
  },
  {
   "cell_type": "markdown",
   "metadata": {
    "ExecuteTime": {
     "end_time": "2020-02-12T13:11:56.582467Z",
     "start_time": "2020-02-12T13:11:56.566175Z"
    }
   },
   "source": [
    "# Газеттир\n",
    "Газеттир нужен для удобной работы с последовательностью слов. Например, можно написать:"
   ]
  },
  {
   "cell_type": "code",
   "execution_count": 7,
   "metadata": {
    "ExecuteTime": {
     "end_time": "2020-02-12T14:12:16.844412Z",
     "start_time": "2020-02-12T14:12:16.821582Z"
    }
   },
   "outputs": [],
   "source": [
    "from yargy import or_, rule\n",
    "from yargy.predicates import normalized\n",
    "\n",
    "RULE = or_(\n",
    "    rule(normalized('dvd'), '-', normalized('диск')),\n",
    "    rule(normalized('видео'), normalized('файл'))\n",
    ")"
   ]
  },
  {
   "cell_type": "code",
   "execution_count": 8,
   "metadata": {
    "ExecuteTime": {
     "end_time": "2020-02-12T14:12:16.968622Z",
     "start_time": "2020-02-12T14:12:16.846737Z"
    }
   },
   "outputs": [
    {
     "name": "stdout",
     "output_type": "stream",
     "text": [
      "['Видео', 'файл']\n",
      "['dvd', '-', 'диске']\n"
     ]
    }
   ],
   "source": [
    "from yargy import Parser\n",
    "from yargy.pipelines import morph_pipeline\n",
    "\n",
    "\n",
    "RULE = morph_pipeline([\n",
    "    'dvd-диск',\n",
    "    'видео файл',\n",
    "    'видеофильм',\n",
    "    'газета',\n",
    "    'электронный дневник',\n",
    "    'эссе',\n",
    "])\n",
    "\n",
    "parser = Parser(RULE)\n",
    "text = 'Видео файл на dvd-диске'\n",
    "for match in parser.findall(text):\n",
    "    print([_.value for _ in match.tokens])"
   ]
  },
  {
   "cell_type": "code",
   "execution_count": 9,
   "metadata": {
    "ExecuteTime": {
     "end_time": "2020-02-12T14:12:54.576104Z",
     "start_time": "2020-02-12T14:12:54.511149Z"
    }
   },
   "outputs": [
    {
     "name": "stdout",
     "output_type": "stream",
     "text": [
      "['Чеченской', 'республике']\n",
      "['Донецкая', 'народная', 'республика']\n"
     ]
    }
   ],
   "source": [
    "from yargy import Parser, rule, and_\n",
    "from yargy.predicates import gram, is_capitalized, dictionary\n",
    "\n",
    "\n",
    "GEO = rule(\n",
    "    and_(\n",
    "        gram('ADJF'),  # так помечается прилагательное, остальные пометки описаны в\n",
    "                       # http://pymorphy2.readthedocs.io/en/latest/user/grammemes.html\n",
    "        is_capitalized()\n",
    "    ),\n",
    "    gram('ADJF').optional().repeatable(),\n",
    "    dictionary({\n",
    "        'федерация',\n",
    "        'республика'\n",
    "    })\n",
    ")\n",
    "\n",
    "\n",
    "parser = Parser(GEO)\n",
    "text = '''\n",
    "В Чеченской республике на день рождения ...\n",
    "Донецкая народная республика провозгласила ...\n",
    "Башня Федерация — одна из самых высоких ...\n",
    "'''\n",
    "for match in parser.findall(text):\n",
    "    print([_.value for _ in match.tokens])"
   ]
  },
  {
   "cell_type": "markdown",
   "metadata": {
    "ExecuteTime": {
     "end_time": "2020-02-12T13:13:57.167613Z",
     "start_time": "2020-02-12T13:13:57.159920Z"
    }
   },
   "source": [
    "### Предикаты\n",
    "\n",
    "Предикат — функция, которая принимает на вход токен и возвращает True или False. В Yargy встроено много готовых предикатов. Полный список есть в справочнике. Предикаты комбинируются с помощью and_, or_ и not_."
   ]
  },
  {
   "cell_type": "code",
   "execution_count": 10,
   "metadata": {
    "ExecuteTime": {
     "end_time": "2020-02-12T14:12:17.173350Z",
     "start_time": "2020-02-12T14:12:17.136108Z"
    }
   },
   "outputs": [
    {
     "name": "stdout",
     "output_type": "stream",
     "text": [
      "True\n",
      "True\n"
     ]
    }
   ],
   "source": [
    "from yargy import and_, not_\n",
    "from yargy.tokenizer import MorphTokenizer\n",
    "from yargy.predicates import is_capitalized, eq\n",
    "\n",
    "\n",
    "tokenizer = MorphTokenizer()\n",
    "token = next(tokenizer('Стали'))\n",
    "\n",
    "predicate = is_capitalized()\n",
    "print(predicate(token))\n",
    "\n",
    "predicate = and_(\n",
    "    is_capitalized(),\n",
    "    not_(eq('марки'))\n",
    ")\n",
    "print(predicate(token))"
   ]
  },
  {
   "cell_type": "markdown",
   "metadata": {
    "ExecuteTime": {
     "end_time": "2020-02-12T13:15:56.600763Z",
     "start_time": "2020-02-12T13:15:56.596609Z"
    }
   },
   "source": [
    "### Грамматики\n",
    "В Yargy используется специальный DSL для описания грамматик. Любую контекстно-свободную грамматику можно описать с помощью конструкций Питона. Например, есть примитивная грамматика для размеров одежды:\n",
    "\n",
    "KEY -> р. | размер\n",
    "\n",
    "VALUE -> S | M | L\n",
    "\n",
    "SIZE -> KEY VALUE\n",
    "\n"
   ]
  },
  {
   "cell_type": "code",
   "execution_count": 11,
   "metadata": {
    "ExecuteTime": {
     "end_time": "2020-02-12T14:14:21.602988Z",
     "start_time": "2020-02-12T14:14:21.589310Z"
    }
   },
   "outputs": [
    {
     "data": {
      "text/plain": [
       "SIZE -> KEY VALUE\n",
       "KEY -> 'р' '.' | 'размер'\n",
       "VALUE -> 'S' | 'M' | 'L' | 'XS'\n"
      ]
     },
     "execution_count": 11,
     "metadata": {},
     "output_type": "execute_result"
    }
   ],
   "source": [
    "from yargy import rule, or_\n",
    "\n",
    "\n",
    "KEY = or_(\n",
    "    rule('р', '.'),\n",
    "    rule('размер')\n",
    ").named('KEY')\n",
    "VALUE = or_(\n",
    "    rule('S'),\n",
    "    rule('M'),\n",
    "    rule('L'),\n",
    "    rule('XS'),\n",
    ").named('VALUE')\n",
    "SIZE = rule(\n",
    "    KEY,\n",
    "    VALUE\n",
    ").named('SIZE')\n",
    "SIZE.normalized.as_bnf"
   ]
  },
  {
   "cell_type": "code",
   "execution_count": 12,
   "metadata": {
    "ExecuteTime": {
     "end_time": "2020-02-12T14:14:27.723857Z",
     "start_time": "2020-02-12T14:14:27.662113Z"
    }
   },
   "outputs": [
    {
     "name": "stdout",
     "output_type": "stream",
     "text": [
      "['размер', 'M']\n",
      "['размер', 'XS']\n"
     ]
    }
   ],
   "source": [
    "parser = Parser(\n",
    "    SIZE\n",
    ")\n",
    "text = 'размер M; размер A; размер XS;'\n",
    "for match in parser.findall(text):\n",
    "    print([_.value for _ in match.tokens])"
   ]
  },
  {
   "cell_type": "code",
   "execution_count": 13,
   "metadata": {
    "ExecuteTime": {
     "end_time": "2020-02-12T14:12:19.308726Z",
     "start_time": "2020-02-12T14:12:17.354354Z"
    }
   },
   "outputs": [],
   "source": [
    "from yargy import Parser, rule, and_, or_, not_\n",
    "from yargy.interpretation import fact, attribute\n",
    "from yargy.predicates import gram, is_capitalized, dictionary, eq\n",
    "import re\n",
    "import pandas as pd\n",
    "from tqdm import tqdm_notebook\n",
    "from gensim import utils"
   ]
  },
  {
   "cell_type": "code",
   "execution_count": 14,
   "metadata": {
    "ExecuteTime": {
     "end_time": "2020-02-12T14:12:19.323139Z",
     "start_time": "2020-02-12T14:12:19.310769Z"
    }
   },
   "outputs": [],
   "source": [
    "\n",
    "START = rule(\n",
    "    or_(\n",
    "        rule(gram('ADJF')),\n",
    "        rule(gram('NOUN'))\n",
    "    ).optional(),\n",
    "    gram('NOUN')\n",
    ")\n",
    "\n",
    "START_S = or_(\n",
    "    eq('такой'),\n",
    "    eq('такие'),\n",
    ")\n",
    "\n",
    "KAK = eq('как')\n",
    "INCLUDING = or_(\n",
    "    or_(\n",
    "        eq('в'),\n",
    "        eq('том'),\n",
    "        eq('числе'),\n",
    "    ),\n",
    "    eq('включающий'),\n",
    "    or_(\n",
    "        eq('включающий'),\n",
    "        eq('в'),\n",
    "        eq('себя'),\n",
    "    ),\n",
    "    or_(\n",
    "        eq('включающие'),\n",
    "        eq('в'),\n",
    "        eq('себя'),\n",
    "    ),\n",
    "    eq('включающие'),\n",
    "    eq('особенно'),\n",
    "\n",
    ")\n",
    "\n",
    "MID_S = or_(\n",
    "    rule(\n",
    "        or_(\n",
    "            eq('такой'),\n",
    "            eq('такие'),\n",
    "        ),\n",
    "        eq('как')\n",
    "    )\n",
    ")\n",
    "ATAKJE = rule(\n",
    "    eq(','),\n",
    "    eq('а'),\n",
    "    eq('также')\n",
    ")\n",
    "\n",
    "MID = or_(\n",
    "    rule(\n",
    "        eq('это')\n",
    "    ),\n",
    "    rule(\n",
    "        eq('—')\n",
    "    ),\n",
    "    rule(\n",
    "        eq('—'),\n",
    "        eq('это')\n",
    "    ),\n",
    "    rule(\n",
    "        eq('—'),\n",
    "        not_(eq('км'))\n",
    "    ),\n",
    "    rule(\n",
    "        or_(\n",
    "            eq('и'),\n",
    "            eq('или'),\n",
    "        ),\n",
    "        eq('другие')\n",
    "    )\n",
    ")\n",
    "\n",
    "END = or_(\n",
    "    rule(\n",
    "        gram('NOUN'),\n",
    "        gram('NOUN')\n",
    "    ),\n",
    "    rule(\n",
    "        gram('ADJF').repeatable(),\n",
    "        gram('NOUN')\n",
    "    ),\n",
    "    rule(\n",
    "        gram('ADJF'),\n",
    "        gram('ADJF').repeatable(),\n",
    "        gram('NOUN')\n",
    "    ),\n",
    "    rule(\n",
    "        gram('NOUN').repeatable(),\n",
    "        gram('ADJF'),\n",
    "        gram('NOUN').repeatable()\n",
    "    ),\n",
    "    rule(\n",
    "        gram('NOUN').repeatable()\n",
    "    )\n",
    ")\n",
    "\n",
    "Item = fact(\n",
    "    'Item',\n",
    "    [attribute('titles').repeatable()]\n",
    ")\n",
    "\n",
    "\n",
    "IGNORE = rule(\n",
    "    '(',\n",
    "    not_(eq(')')).repeatable(),\n",
    "    ')'\n",
    ")\n",
    "\n",
    "ITEM = rule(\n",
    "    IGNORE.interpretation(\n",
    "        Item.titles\n",
    "    ),\n",
    "    eq(',').optional() \n",
    ").repeatable().interpretation(\n",
    "    Item\n",
    ")"
   ]
  },
  {
   "cell_type": "code",
   "execution_count": 15,
   "metadata": {
    "ExecuteTime": {
     "end_time": "2020-02-12T14:12:19.434702Z",
     "start_time": "2020-02-12T14:12:19.324707Z"
    }
   },
   "outputs": [],
   "source": [
    "def get_hyperonyms(main_word):\n",
    "    HYPONYM = eq(utils.deaccent(main_word))\n",
    "    RULE = or_(\n",
    "        rule(HYPONYM, ATAKJE, START, MID, END),\n",
    "        rule(HYPONYM, MID, END),\n",
    "        rule(START_S, END, KAK, HYPONYM),\n",
    "        rule(END, INCLUDING, HYPONYM)\n",
    "    )\n",
    "    parser = Parser(RULE) \n",
    "    text = utils.deaccent(wikipedia.summary(main_word))\n",
    "    print(text)\n",
    "    text = re.sub(r'\\(.+?\\)', '', text)\n",
    "    text = text.lower().replace('* сергии радонежскии* ', '')\n",
    "    for idx, match in enumerate(parser.findall(text.lower())):\n",
    "        k = [_.value for _ in match.tokens]\n",
    "        print(k)"
   ]
  },
  {
   "cell_type": "code",
   "execution_count": 16,
   "metadata": {
    "ExecuteTime": {
     "end_time": "2020-02-12T14:12:22.648500Z",
     "start_time": "2020-02-12T14:12:19.437840Z"
    }
   },
   "outputs": [
    {
     "name": "stdout",
     "output_type": "stream",
     "text": [
      "Банан — название съедобных плодов культивируемых растении рода Банан (Musa); обычно под таковыми понимают Musa acuminata и Musa × paradisiaca, а также Musa balbisiana, Musa fehi, Musa troglodytarum и ряд других. Также бананами могут называть плоды Ensete ventricosum (строго говоря, являющегося представителем другого рода семеиства Банановые). С ботаническои точки зрения банан является ягодои, многосеменнои и толстокожеи. У культурных форм часто отсутствуют семена, ненужные при вегетативном размножении. Плоды имеют длину 6—30 см и диаметр 2—5 см. Соплодия могут состоять из 300 плодов и иметь массу до 50—60 кг.\n",
      "Бананы — одна из древнеиших пищевых культур, а для тропических стран важнеишее пищевое растение и главная статья экспорта. Спелые бананы широко употребляются в пищу по всему миру, их используют при приготовлении большого количества блюд. Помимо употребления в свежем виде, в кухне некоторых народов бананы могут зажариваться, или вариться как в очищенном, так и в неочищенном виде. Их также сушат, консервируют, используют для приготовления банановои муки, мармелада, сиропов, вин. Бананы применяются также в качестве корма для скота. Запах бананов определяют изовалерианово-изоамиловыи и уксусно-изоамиловыи эфиры. Выращиваются в тропических и субтропических раионах с жарким влажным климатом. Существует большое число сортов съедобных видов банана.\n",
      "Размер, цвет и форма могут значительно различаться в зависимости от вида или сорта, но чаще всего они имеют продолговатую цилиндрическую или трехгранную форму, выпрямленную либо закругленную. Длина плода варьирует в пределах от 3 до 40 см, толщина — от 2 до 8 см. Цвет кожицы может быть желтым, зеленым, красным или даже серебристым. Мякоть белая, кремовая, желтая или оранжевая. В незрелом состоянии она твердая и клеикая, но по мере созревания становится мягкои и сочнои.\n",
      "Во многих странах бананы являются одним из основных источников питания — например, только в Эквадоре годовое потребление этого продукта составляет 73,8 кг на душу населения (для сравнения, в России этот показатель равен 7,29 кг). Существенную долю потребления бананы также составляют в Бурунди (189,4 кг), Самоа (85,0 кг), Коморских Островах (77,8 кг) и на Филиппинах (40,6 кг).\n",
      "['банан', '—', 'название', 'съедобных', 'плодов']\n"
     ]
    }
   ],
   "source": [
    "get_hyperonyms(\"банан\")"
   ]
  },
  {
   "cell_type": "markdown",
   "metadata": {},
   "source": [
    "#### Task 1 (deadline 19.02.2020 24:00)\n",
    "* Find your name on the spreadsheet https://docs.google.com/spreadsheets/d/1RR2I6toCkebbGU1UK83HS70Ru_l0_o-nnZIHyiFB0No/edit?usp=sharing. In opposite of your name there are 24 words of hyponyms, you have to insert five corresponding hypernyms next to them. Examples of hyponyms and hyperonyms relationship you can find above in the current Jupiter notebook.\n",
    "* Find for each pair of hyponyms and hypernyms a corresponding snippet of a text with their mentions. The source of the text can be any free resources, e.g., Wikipedia, Google, Yandex, others. You should save the snippets and their URLs within the lab2 folder in your NLP git-repo with .csv file-extension in a single file.\n",
    "\n",
    "#### Task 2 (deadline 26.02.2020 24:00)\n",
    "* It would be best if you created a pandas DataFrame of the texts from the previous task. And apply to the DataFrame the function 'get_hyperonyms,' which must return the list of the corresponding hypernyms from the text automatically. If there are errors or misses, you should fix them in the code for your case of the 24 words. Nevertheless, it is strictly prohibited to use hard coding. Save your notebook with parser code within the lab2 folder in your NLP git-repo."
   ]
  },
  {
   "cell_type": "code",
   "execution_count": 17,
   "metadata": {},
   "outputs": [
    {
     "data": {
      "text/html": [
       "<div>\n",
       "<style scoped>\n",
       "    .dataframe tbody tr th:only-of-type {\n",
       "        vertical-align: middle;\n",
       "    }\n",
       "\n",
       "    .dataframe tbody tr th {\n",
       "        vertical-align: top;\n",
       "    }\n",
       "\n",
       "    .dataframe thead th {\n",
       "        text-align: right;\n",
       "    }\n",
       "</style>\n",
       "<table border=\"1\" class=\"dataframe\">\n",
       "  <thead>\n",
       "    <tr style=\"text-align: right;\">\n",
       "      <th></th>\n",
       "      <th>Hyponym</th>\n",
       "    </tr>\n",
       "  </thead>\n",
       "  <tbody>\n",
       "    <tr>\n",
       "      <th>0</th>\n",
       "      <td>ШЕСТИУГОЛЬНИК</td>\n",
       "    </tr>\n",
       "    <tr>\n",
       "      <th>1</th>\n",
       "      <td>ШЕСТНАДЦАТИЭТАЖКА</td>\n",
       "    </tr>\n",
       "    <tr>\n",
       "      <th>2</th>\n",
       "      <td>ШИНЬОН</td>\n",
       "    </tr>\n",
       "    <tr>\n",
       "      <th>3</th>\n",
       "      <td>ШИПОВКА</td>\n",
       "    </tr>\n",
       "    <tr>\n",
       "      <th>4</th>\n",
       "      <td>ШИФРОВАЛЬЩИК</td>\n",
       "    </tr>\n",
       "  </tbody>\n",
       "</table>\n",
       "</div>"
      ],
      "text/plain": [
       "             Hyponym\n",
       "0      ШЕСТИУГОЛЬНИК\n",
       "1  ШЕСТНАДЦАТИЭТАЖКА\n",
       "2             ШИНЬОН\n",
       "3            ШИПОВКА\n",
       "4       ШИФРОВАЛЬЩИК"
      ]
     },
     "execution_count": 17,
     "metadata": {},
     "output_type": "execute_result"
    }
   ],
   "source": [
    "import pandas as pd\n",
    "homework_data = pd.read_csv('Lab2.csv', engine='python')\n",
    "\n",
    "homework_data.head()"
   ]
  },
  {
   "cell_type": "code",
   "execution_count": 18,
   "metadata": {},
   "outputs": [
    {
     "data": {
      "text/plain": [
       "['ШЕСТИУГОЛЬНИК',\n",
       " 'ШЕСТНАДЦАТИЭТАЖКА',\n",
       " 'ШИНЬОН',\n",
       " 'ШИПОВКА',\n",
       " 'ШИФРОВАЛЬЩИК',\n",
       " 'ШИХТА',\n",
       " 'ШЛАМ',\n",
       " 'ШЛЕЙКА',\n",
       " 'ШЛЮЗОВАНИЕ',\n",
       " 'ШНИЦЕЛЬ',\n",
       " 'ШОПОГОЛИЗМ',\n",
       " 'ШОПОГОЛИК',\n",
       " 'ШПАЛЕРА',\n",
       " 'ШПАНГОУТ',\n",
       " 'ШПИНГАЛЕТ',\n",
       " 'ШПИНЕЛЬ',\n",
       " 'ШПУР',\n",
       " 'ШТАБИСТ',\n",
       " 'ШТАНГЕНЦИРКУЛЬ',\n",
       " 'ШТРАФБАТ',\n",
       " 'ШТРУДЕЛЬ',\n",
       " 'ШУМОВКА',\n",
       " 'ШУРУПОВЕРТ',\n",
       " 'ЩЕГОЛ']"
      ]
     },
     "execution_count": 18,
     "metadata": {},
     "output_type": "execute_result"
    }
   ],
   "source": [
    "list(homework_data['Hyponym'])"
   ]
  },
  {
   "cell_type": "code",
   "execution_count": 19,
   "metadata": {},
   "outputs": [
    {
     "name": "stdout",
     "output_type": "stream",
     "text": [
      "123\n"
     ]
    }
   ],
   "source": []
  },
  {
   "cell_type": "code",
   "execution_count": 22,
   "metadata": {},
   "outputs": [
    {
     "name": "stdout",
     "output_type": "stream",
     "text": [
      "Assem\n",
      "Гиперонимы для слова:  ШЕСТИУГОЛЬНИК\n",
      "\n",
      "\n",
      "Правильныи шестиугольник (гексагон) — правильныи многоугольник с шестью сторонами.\n",
      "\n",
      "\n",
      "\n",
      "Гиперонимы для слова:  ШЕСТНАДЦАТИЭТАЖКА\n",
      "\n",
      "\n",
      "«Авария — дочь мента» — остросюжетная молодежная драма режиссера Михаила Туманишвили. Фильм снят по сценарию Юрия Короткова на киностудии «Мосфильм» в 1989 году.\n",
      "\n",
      "\n",
      "\n",
      "Гиперонимы для слова:  ШИНЬОН\n",
      "\n",
      "\n",
      "Шиньон (фр. chignon, [ʃiɲɔ]) — женская прическа с использованием волос, собранных на затылке, то же, что и пучок.\n",
      "Название прически происходит от французского названия волос на затылке, такое значение слово chignon приобрело не позже середины XVIII века, более древнее значение этого слова — «затылок». Чаще всего для шиньонов используют накладные волосы. Накладные шиньоны обычно прикалываются к волосам специальнои клипсои, но есть много различных вариантов этои прически. Ее часто делают по особым случаям, таким как свадьба или официальные приемы с танцами, но номинально сделанныи шиньон можно носить и каждыи день с повседневнои одеждои.\n",
      "\n",
      "\n",
      "\n",
      "Гиперонимы для слова:  ШИПОВКА\n",
      "\n",
      "\n",
      "stupid word  ШИПОВКА\n",
      "\n",
      "\n",
      "\n",
      "Гиперонимы для слова:  ШИФРОВАЛЬЩИК\n",
      "\n",
      "\n",
      "stupid word  ШИФРОВАЛЬЩИК\n",
      "\n",
      "\n",
      "\n",
      "Гиперонимы для слова:  ШИХТА\n",
      "\n",
      "\n",
      "Шихта (нем. Schicht) — смесь исходных материалов, а в некоторых случаях (например, при выплавке чугуна в доменнои печи) и топлива в определеннои пропорции, подлежащая переработке в металлургических, химических и других агрегатах.\n",
      "Шихтами обычно называют исходные смеси, использующиеся в пирометаллургических или иных высокотемпературных процессах (производство стекла, цемента, некоторых керамических материалов и изделии, коксование углеи). Шихта рассчитана на получение конечных продуктов с заданными физическими и химическими своиствами. Шихта загружается в агрегат либо в виде однороднои смеси (порошковои, кусковои, брикетированнои), приготовленнои вне агрегата, либо порциями, состоящими из отдельных компонентов шихты. Шихтовые материалы перед загрузкои в агрегат обычно хранятся на шихтовых дворах или усреднительных складах.\n",
      "В состав металлургических шихт обычно входят исходное или обогащенное рудное сырье (руды, рудные концентраты и окускованное сырье), сырье с флюсами и оборотными материалами (так называемыи возврат), пыль из улавливающих устроиств, металлы (главным образом в виде лома). Шихты в чернои металлургии (например, в доменном процессе) зачастую содержат и топливо (как правило, кокс), в то время как в цветнои металлургии шихты, как правило, топлива не содержат.\n",
      "Шихта для производства агломерата, как правило, состоит из руды, концентрата, твердого топлива, флюсов и добавок.\n",
      "Типичные требования к качеству шихты определяются обеспечением стабильности и воспроизводимости результатов процесса, в котором она используется:\n",
      "\n",
      "постоянство химического состава;\n",
      "однородность по химическому, минералогическому и гранулометрическому составу;\n",
      "оптимальная крупность компонентов шихты;\n",
      "оптимальная влажность.\n",
      "\n",
      "\n",
      "\n",
      "Гиперонимы для слова:  ШЛАМ\n",
      "\n",
      "\n",
      "Шлам (от нем. Schlamm — грязь) — отходы при инженернои разработке горного продукта, составляющие пылевые и мельчаишие его части, получаемые в виде осадка при промывке какого-либо рудного материала.\n",
      "\n",
      "\n",
      "\n",
      "Гиперонимы для слова:  ШЛЕЙКА\n",
      "\n",
      "\n",
      "Шлеика — специальная часть собачьеи экипировки, позволяющая более четко контролировать собаку, развивать силу, выносливость и служебные качества. Состоит из кожаных или тканных (из растительных или синтетических волокон) ремнеи, охватывающих грудь и часть спины собаки и заменяющих ошеиник. Точка крепления поводка приходится не на шею, а на холку или круп, благодаря чему собаке свободнеи дышать и легче двигаться. Слово шлеика образовано как уменьшительное к существительному шлея, являющеися частью сбруи лошадеи.\n",
      "Шлеики рассчитаны на разные специализации собак и потому существуют различные конструкции шлеек в зависимости от типа их применения. Очень важно, чтобы собачья шлеика была идеально подогнана по размеру, а также была рассчитана на темперамент и физическую силу собаки, учитывала ее породу.\n",
      "\n",
      "\n",
      "\n",
      "Гиперонимы для слова:  ШЛЮЗОВАНИЕ\n",
      "\n",
      "\n",
      "Судоходныи шлюз — гидротехническое сооружение на водных путях для обеспечения перехода судов на плаву из одного водного объекта (бьефа) в другои с различными уровнями воды в них с помощью наполнения или опорожнения камеры c выравниванием в неи уровня воды с уровнем верхнего или нижнего бьефов.\n",
      "В отличие от судоподъемников, при использовании шлюзовых систем требуется большое количество воды, что приводит к снижению их пропускнои способности и в том числе к меньшеи скорости пропуска судов. Преимуществом является их более простое и дешевое в обслуживании техническое оснащение по сравнению с судоподъемниками.\n",
      "\n",
      "\n",
      "\n",
      "Гиперонимы для слова:  ШНИЦЕЛЬ\n",
      "\n",
      "\n",
      "Шницель (нем. Schnitzel от schnitzen — нарезать) — тонкии пласт мяса, панированныи и обжаренныи методом глубокого погружения в раскаленное масло (фритюр). От отбивнои отличается способом жарки и тем, что мясо может быть не отбито. От эскалопа — панировкои. Правильно приготовленныи шницель имеет золотисто-оранжевыи цвет и хрустящую корочку.\n",
      "Название «шницель» первоначально относилось к блюду венскои кухни, приготовленному из телятины (смотрите Венскии шницель), и распространившемуся во второи половине XIX века.\n",
      "По-немецки «шницель» означает «отрезочек», «ломтик» или «стружка».\n",
      "Чешскии аналог шницеля — ржизек (чеш. rizek).\n",
      "На данныи момент встречается большое разнообразие локальных вариантов этого блюда, например, берлинскии шницель, парижскии шницель, охотничии шницель, гамбургскии шницель, кордон блю и многие другие.\n",
      "\n",
      "\n",
      "\n",
      "Гиперонимы для слова:  ШОПОГОЛИЗМ\n",
      "\n",
      "\n",
      "Ониомания (от др.-греч. ωνιος — «для продажи» + μανια — «безумие») — непреодолимое желание что-либо покупать без необходимости, ради удовольствия от самого процесса покупки. Покупки становятся и отдыхом, и развлечением, и самостоятельным смыслом. В просторечии эту зависимость часто называют шопинголизм или шопоголизм, а людеи, страдающих этим недугом, — шопоголиками.\n",
      "\n",
      "\n",
      "\n",
      "Гиперонимы для слова:  ШОПОГОЛИК\n",
      "\n",
      "\n",
      "«Шопоголик» (англ. Confessions of a Shopaholic, Признания шопоголика) — американская романтическая комедия 2009 года о молодои девушке по имени Ребекка, которая помешана на посещении магазинов (шопинге) и дорогои одежде. «Шопоголик» снят по мотивам бестселлера «Шопоголик» англиискои писательницы Софии Кинселлы. Дата выхода фильма в прокат 13 февраля 2009 года (в мире), 12 февраля 2009 года (в России). Режиссер: Пол Джон Хоган («Питер Пэн», «Свадьба лучшего друга»). Сценарии: Трэиси Джексон, Тим Ферт, Каила Элперт. Сборы в США составили 44 277 350 долларов.\n",
      "\n",
      "\n",
      "\n",
      "Гиперонимы для слова:  ШПАЛЕРА\n",
      "\n",
      "\n",
      "Гобелен (фр. gobelin), или шпалера, — один из видов декоративного искусства, стеннои одностороннии безворсовыи ковер с сюжетнои или орнаментальнои композициеи, вытканныи вручную перекрестным переплетением нитеи:5. Ткач пропускает уточную нить через основу, создавая одновременно и изображение, и саму ткань. В Энциклопедическом словаре Брокгауза и Ефрона гобелен определяется как «тканыи ковер ручнои работы, на котором разноцветнои шерстью и отчасти шелком воспроизведена картина и нарочно приготовленныи картон более или менее известного художника».\n",
      "Шпалеры выполняли из шерсти, шелка, иногда в них вводились золотые или серебряные нити. В настоящее время для изготовления ковров вручную используются самые разнообразные материалы: отдается предпочтение нитям из синтетических и искусственных волокон, в меньшеи степени применяются натуральные материалы:13. Техника ручного ткачества трудоемка, один мастер может выполнить в год около 1—1,5 м² (в зависимости от плотности) шпалеры, поэтому эти изделия доступны только состоятельным заказчикам. И в настоящее время гобелен (шпалера) ручнои работы продолжает оставаться дорогостоящим произведением.\n",
      "Со средних веков и вплоть до XIX века практиковался выпуск шпалер сериями, в которые объединяли композиции, связанные однои темои. Такои набор шпалер предназначался для украшения помещения в едином стиле. Количество шпалер в серии зависело от размеров помещении, в которых предполагалось размещать их. В таком же стиле, как шпалеры для стен, выполнялись пологи, занавеси, наволочки подушек, также составлявшие комплект.\n",
      "\n",
      "\n",
      "\n",
      "Гиперонимы для слова:  ШПАНГОУТ\n",
      "\n",
      "\n",
      "Шпангоут (нидерл. spanthout, от spant — «балка» и hout — «древесина») — поперечное ребро корпуса судна; деревянныи или металлическии поперечныи элемент жесткости обшивки корпуса корабля или летательного аппарата. В кораблестроении и судостроении это также элемент теоретического чертежа — сечение корпуса вертикальнои поперечнои плоскостью.\n",
      "\n",
      "\n",
      "\n",
      "Гиперонимы для слова:  ШПИНГАЛЕТ\n",
      "\n",
      "\n"
     ]
    },
    {
     "name": "stdout",
     "output_type": "stream",
     "text": [
      "Замок — механическое, электронное или комбинированное устроиство фиксации. Применяется для запирания двереи, крышек, емкостеи и пр., а также для обеспечения блокировки предметов с целью предотвращения их похищения и/или ограничения доступа. В зависимости от принципа деиствия привода различают замки механические и электронные. В зависимости от крепления различают замки навесные, накладные, врезные (встроенные) и другие (например, для ювелирных изделии).\n",
      "\n",
      "\n",
      "\n",
      "Гиперонимы для слова:  ШПИНЕЛЬ\n",
      "\n",
      "\n",
      "Шпинель — редкии минерал кубическои сингонии, смешанныи оксид магния и алюминия. Ранее известна как алабандин. Это название произошло от города Алабанда в Малои Азии, в окрестностях которого находили шпинель.\n",
      "Современное название минерала заимствовано из немецкого языка; немецкое Spinell, по-видимому, происходит от латинского слова spinella — уменьшительное от spina ‘шип, колючка’, что связано с характернои остроконечнои формои кристаллов. Есть также версия, что Spinell происходит от греческого σπιν(ν)ος ‘зяблик’ — из-за сходства цвета. В средние века и позже шпинель носила название «лал», объединявшее сразу несколько драгоценных камнеи красного цвета, но прежде всего — именно шпинель.\n",
      "\n",
      "\n",
      "\n",
      "Гиперонимы для слова:  ШПУР\n",
      "\n",
      "\n",
      "stupid word  ШПУР\n",
      "\n",
      "\n",
      "\n",
      "Гиперонимы для слова:  ШТАБИСТ\n",
      "\n",
      "\n",
      "Фридрих Вильгельм Эрнст Паулюс (нем. Friedrich Wilhelm Ernst Paulus; 23 сентября 1890, Гуксгаген, Гессен-Нассау — 1 февраля 1957, Дрезден, ГДР) — немецкии военачальник (с 1943 года — генерал-фельдмаршал) и командующии 6-и армиеи, окруженнои и капитулировавшеи под Сталинградом. Один из авторов плана Барбаросса.\n",
      "В отдельных источниках встречается написание его фамилии с добавлением предиката фон, что неверно, поскольку Паулюс не являлся по своему происхождению аристократом и никогда не использовал такую приставку к своеи фамилии.\n",
      "\n",
      "\n",
      "\n",
      "\n",
      "\n",
      "Гиперонимы для слова:  ШТАНГЕНЦИРКУЛЬ\n",
      "\n",
      "\n",
      "Штангенциркуль (от нем. Stangenzirkel) — универсальныи измерительныи прибор, предназначенныи для высокоточных измерении наружных и внутренних линеиных размеров, а также глубин отверстии.\n",
      "Штангенциркуль — один из самых распространенных приборов измерения, благодаря простои конструкции, удобству в обращении и быстроте в работе. Является подвидом штангениструмента, к которому относятся также штангенреисмас, штангенглубиномер и другие.\n",
      "\n",
      "\n",
      "\n",
      "Гиперонимы для слова:  ШТРАФБАТ\n",
      "\n",
      "\n",
      "Штрафные части — формирования (специальные отдельные воинские части) деиствующеи армии вооруженных сил, куда в военное время в качестве наказания направлялись «штрафники» — военнослужащие, совершившие преступления (кроме тяжких преступлении, за которые полагалась смертная казнь) и осужденные приговором военного трибунала с применением отсрочки исполнения приговора до окончания воины (военных деиствии).\n",
      "\n",
      "\n",
      "\n",
      "\n",
      "\n",
      "Гиперонимы для слова:  ШТРУДЕЛЬ\n",
      "\n",
      "\n",
      "Штрудель, струдель (нем. Strudel — вихрь, воронка, водоворот) — кондитерское изделие в виде рулета из пресного, тонко раскатанного и вытянутого теста, с различнои начинкои (яблочнои, грушевои, вишневои…).\n",
      "Штрудель является традиционнои выпечкои австриискои, немецкои, венгерскои и чешскои кухни. Также штрудель распространен в кухне евреев-ашкеназов, на Украине и в Молдавии.\n",
      "\n",
      "\n",
      "\n",
      "Гиперонимы для слова:  ШУМОВКА\n",
      "\n",
      "\n",
      "Шумовка (польск. szumowka < szumowac снимать пену < szum пена < ср.-в.-нем. schaum пена) — кухонная принадлежность в виде большои плоскои ложки со множеством мелких отверстии в черпале для прохождения жидкости. Изготавливается чаще всего из металла или пластмассы.\n",
      "В основном используется для снятия пены, перемешивания блюда во время его готовки, выемки частеи блюда.\n",
      "\n",
      "\n",
      "\n",
      "Гиперонимы для слова:  ШУРУПОВЕРТ\n",
      "\n",
      "\n",
      "Шуруповерт, дрель-шуруповерт, винтоверт, электрошуруповерт — ручнои электроинструмент или пневматическии инструмент с регулировкои крутящего момента и/или глубины завинчивания, предназначенныи для закручивания и откручивания шурупов, саморезов, винтов, дюбелеи и других видов крепежных изделии, а также сверления отверстии (при наличии кулачкового патрона или при использовании сверл с шестигранным хвостовиком). Электрическии шуруповерт работает от аккумуляторнои батареи или от внешнего источника тока (сети, генератора), пневматическии шуруповерт — от компрессора или резервуара со сжатым газом (обычно воздухом).\n",
      "\n",
      "\n",
      "\n",
      "Гиперонимы для слова:  ЩЕГОЛ\n",
      "\n",
      "\n",
      "«Щегол» (англ. The Goldfinch) — американскии драматическии фильм режиссера Джона Кроули, являющиися экранизациеи одноименного романа Донны Тартт.\n",
      "\n",
      "\n",
      "\n"
     ]
    }
   ],
   "source": [
    "for word in list(homework_data['Hyponym']):\n",
    "    print('Гиперонимы для слова: ', word)\n",
    "    print('\\n')\n",
    "    try:\n",
    "        get_hyperonyms(word)\n",
    "    except: print(\"stupid word \",word)\n",
    "    print('\\n\\n')"
   ]
  },
  {
   "cell_type": "code",
   "execution_count": null,
   "metadata": {},
   "outputs": [],
   "source": []
  },
  {
   "cell_type": "code",
   "execution_count": null,
   "metadata": {},
   "outputs": [],
   "source": []
  },
  {
   "cell_type": "code",
   "execution_count": null,
   "metadata": {},
   "outputs": [],
   "source": []
  },
  {
   "cell_type": "code",
   "execution_count": null,
   "metadata": {},
   "outputs": [],
   "source": []
  }
 ],
 "metadata": {
  "kernelspec": {
   "display_name": "Python 3",
   "language": "python",
   "name": "python3"
  },
  "language_info": {
   "codemirror_mode": {
    "name": "ipython",
    "version": 3
   },
   "file_extension": ".py",
   "mimetype": "text/x-python",
   "name": "python",
   "nbconvert_exporter": "python",
   "pygments_lexer": "ipython3",
   "version": "3.7.6"
  }
 },
 "nbformat": 4,
 "nbformat_minor": 2
}
